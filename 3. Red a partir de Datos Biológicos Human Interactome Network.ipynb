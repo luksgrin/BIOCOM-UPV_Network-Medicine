{
 "cells": [
  {
   "cell_type": "markdown",
   "id": "20d6d870",
   "metadata": {},
   "source": [
    "# Network Medicine\n",
    "\n",
    "***Lucas Goiriz Beltrán***&emsp;&emsp;&emsp;&emsp;&emsp;&emsp;&emsp;&emsp;*Instituto de Biología Integrativa y de Sistemas (I2SysBio, UV - CSIC) & Departamento de Matemática Aplicada (UPV)*\n",
    "\n",
    "***Alberto Conejero Casares***&emsp;&emsp;&emsp;&emsp;&emsp;&emsp;&emsp;&emsp;&emsp;&emsp;&emsp;&emsp;&emsp;&emsp;&emsp;&emsp;&emsp;&emsp;&emsp;&emsp;&emsp;&emsp;&emsp;&emsp;&emsp;&emsp;&emsp;&emsp;&emsp;&emsp;&emsp;&emsp;&emsp;&emsp;&emsp;&emsp;&emsp;*Departamento de Matemática Aplicada (UPV)*\n",
    "\n",
    "---------------------------------------------------------------------------------------------------------------------\n",
    "\n",
    "## Ejemplo: Human Interactome Network\n",
    "\n",
    "En este ejemplo vamos a gastar la red de referencia de interactoma Humano `HuRI`.\n",
    "Véase el paper https://www.nature.com/articles/s41586-020-2188-x y la web http://www.interactome-atlas.org/download"
   ]
  },
  {
   "cell_type": "code",
   "execution_count": null,
   "id": "c80104e3",
   "metadata": {},
   "outputs": [],
   "source": [
    "# Librerías a emplear\n",
    "import pandas as pd\n",
    "import numpy as np\n",
    "import networkx as nx\n",
    "import netwulf as nw"
   ]
  },
  {
   "cell_type": "code",
   "execution_count": null,
   "id": "b64f11bc",
   "metadata": {},
   "outputs": [],
   "source": [
    "# Leer datos y primer vistazo\n",
    "df = pd.read_csv(\n",
    "    \"http://www.interactome-atlas.org/data/HuRI.tsv\",\n",
    "    sep=\"\\t\", header=None\n",
    ")\n",
    "df.head()"
   ]
  },
  {
   "cell_type": "markdown",
   "id": "2e64efed",
   "metadata": {},
   "source": [
    "Podemos ver que cada fila representa una arista entre dos nodos (identificadores de proteínas de `ENSEMBL`, http://www.ensembl.org/index.html).\n",
    "\n",
    "Esto es suficiente para construir la red. A continuación creamos una nueva red mediante `nx.Graph()` y añadimos las aristas (representadas por una tupla de nodos) mediante `edd_edges_from()`: "
   ]
  },
  {
   "cell_type": "code",
   "execution_count": null,
   "id": "9c6e99c4",
   "metadata": {},
   "outputs": [],
   "source": [
    "HuRI_net = nx.Graph()\n",
    "HuRI_net.add_edges_from(\n",
    "    df.apply( # Aplicamos al data frame ...\n",
    "        lambda row: (row[0], row[1]), # una función que nos crea una tupla de dos elementos ...\n",
    "        axis=1 # para cada fila\n",
    "    )\n",
    ")"
   ]
  },
  {
   "cell_type": "markdown",
   "id": "f7bf7d13",
   "metadata": {},
   "source": [
    "Veamos el nombre de los 10 primeros nodos de nuestra red"
   ]
  },
  {
   "cell_type": "code",
   "execution_count": null,
   "id": "2c0ea91a",
   "metadata": {},
   "outputs": [],
   "source": [
    "list(HuRI_net.nodes)[:10] # Para ver los 10 primeros nodos"
   ]
  },
  {
   "cell_type": "code",
   "execution_count": null,
   "id": "1c6f19f8",
   "metadata": {},
   "outputs": [],
   "source": [
    "HuRI_net.number_of_edges()"
   ]
  },
  {
   "cell_type": "markdown",
   "id": "79a3349e",
   "metadata": {},
   "source": [
    "A continuación veremos una representación de la red. **CUIDADO**: esta red es muy grande. Generar la visualización puede costar bastante tiempo y recursos computacionales:"
   ]
  },
  {
   "cell_type": "code",
   "execution_count": null,
   "id": "a415e1de",
   "metadata": {},
   "outputs": [],
   "source": [
    "HuRI_plot, HuRI_config = nw.visualize(HuRI_net, plot_in_cell_below=False)"
   ]
  },
  {
   "cell_type": "code",
   "execution_count": null,
   "id": "2d0c9784",
   "metadata": {
    "scrolled": false
   },
   "outputs": [],
   "source": [
    "%matplotlib inline\n",
    "\n",
    "fig, ax = nw.draw_netwulf(HuRI_plot, figsize=20)\n",
    "ax.set_title(\n",
    "    \"Red HuRI: Interactoma Humano de Referencia\",\n",
    "    fontdict={'fontsize':50}\n",
    ")\n",
    "nw.tools.add_node_label(ax, HuRI_plot, \"ENSG00000000005\", label=\"Primer Gen\", fontsize=30)\n",
    "# plt.savefig(\"myfigure.pdf\")"
   ]
  },
  {
   "cell_type": "code",
   "execution_count": null,
   "id": "82854150",
   "metadata": {},
   "outputs": [],
   "source": [
    "HuRI_plot['nodes'][1]"
   ]
  },
  {
   "cell_type": "code",
   "execution_count": null,
   "id": "de7d2ac1",
   "metadata": {},
   "outputs": [],
   "source": [
    "# Función auxiliar para recolorear los nodos que queramos al color que queramos\n",
    "def remap_node_color(prop_dict, nodenames, hexcolor=\"#000000\"):\n",
    "    \n",
    "    if not(type(nodenames) in (list, tuple)):\n",
    "        nodenames = [nodenames]\n",
    "    \n",
    "    nodes = prop_dict['nodes']\n",
    "    \n",
    "    idxs = list(filter(\n",
    "        lambda x: nodes[x]['id'] in nodenames,\n",
    "        range(len(nodes))\n",
    "    ))\n",
    "    \n",
    "    for idx in idxs:\n",
    "        prop_dict['nodes'][idx]['color'] = hexcolor\n",
    "    \n",
    "    return None\n",
    "\n",
    "remap_node_color(HuRI_plot, (\"ENSG00000000005\", \"ENSG00000061656\"), \"#ff0000\")"
   ]
  },
  {
   "cell_type": "code",
   "execution_count": null,
   "id": "033c4049",
   "metadata": {},
   "outputs": [],
   "source": [
    "%matplotlib inline\n",
    "\n",
    "fig, ax = nw.draw_netwulf(HuRI_plot, figsize=20)\n",
    "ax.set_title(\n",
    "    \"Red HuRI: Interactoma Humano de Referencia\",\n",
    "    fontdict={'fontsize':50}\n",
    ")\n",
    "nw.tools.add_node_label(ax, HuRI_plot, \"ENSG00000000005\", label=\"Primer Gen\", fontsize=30)"
   ]
  },
  {
   "cell_type": "markdown",
   "id": "96115385",
   "metadata": {},
   "source": [
    "Como podéis ver, con un poco de tiempo, se puede personalizar la visualización del grafo."
   ]
  }
 ],
 "metadata": {
  "kernelspec": {
   "display_name": "Python 3 (ipykernel)",
   "language": "python",
   "name": "python3"
  },
  "language_info": {
   "codemirror_mode": {
    "name": "ipython",
    "version": 3
   },
   "file_extension": ".py",
   "mimetype": "text/x-python",
   "name": "python",
   "nbconvert_exporter": "python",
   "pygments_lexer": "ipython3",
   "version": "3.10.4"
  }
 },
 "nbformat": 4,
 "nbformat_minor": 5
}
