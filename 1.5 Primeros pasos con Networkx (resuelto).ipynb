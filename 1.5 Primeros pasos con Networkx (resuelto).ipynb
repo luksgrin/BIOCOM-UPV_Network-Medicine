{
 "cells": [
  {
   "cell_type": "markdown",
   "id": "ef3a6a3f",
   "metadata": {},
   "source": [
    "# Network Medicine\n",
    "\n",
    "***Lucas Goiriz Beltrán***&emsp;&emsp;&emsp;&emsp;&emsp;&emsp;&emsp;&emsp;*Instituto de Biología Integrativa y de Sistemas (I2SysBio, UV - CSIC) & Departamento de Matemática Aplicada (UPV)*\n",
    "\n",
    "***Alberto Conejero Casares***&emsp;&emsp;&emsp;&emsp;&emsp;&emsp;&emsp;&emsp;&emsp;&emsp;&emsp;&emsp;&emsp;&emsp;&emsp;&emsp;&emsp;&emsp;&emsp;&emsp;&emsp;&emsp;&emsp;&emsp;&emsp;&emsp;&emsp;&emsp;&emsp;&emsp;&emsp;&emsp;&emsp;&emsp;&emsp;&emsp;&emsp;*Departamento de Matemática Aplicada (UPV)*\n",
    "\n",
    "---------------------------------------------------------------------------------------------------------------------\n",
    "\n",
    "## Primeros pasos con `Networkx`\n",
    "\n",
    "*(Los conceptos y procedimientos tratados en este notebook pueden ser consultados, ya sea para solventar dudas como para ampliar conocimientos, en [la documentación oficial de `networkx`](https://networkx.org/documentation/stable/index.html))*\n",
    "\n",
    "Bienvenidos a esta sesión de Network Medicine.\n",
    "El objetivo de hoy va a ser conocer la librería `networkx` de `python`, la cual nos permitirá hacer los mismos (¡o incluso más!) análisis que los programas `Gephi` o `Cytoscape`.\n",
    "\n",
    "Hay que cuidar un detalle **importante**: pese a tener funcionalidades (a priori rudimentarias) de visualización, `networkx` no es una librería de visualización, si no de análisis de grafos.\n",
    "\n",
    "Para la visualización podemos recurrir a otras herramientas, o incluso exportar el grafo para abrirlo en `Gephi` o `Cytoscape`.\n",
    "\n",
    "Para el desarrollo de las prácticas vamos a necesitar las siguientes librerías:"
   ]
  },
  {
   "cell_type": "code",
   "execution_count": 1,
   "id": "888f1470",
   "metadata": {},
   "outputs": [],
   "source": [
    "import networkx as nx\n",
    "import numpy as np"
   ]
  },
  {
   "cell_type": "markdown",
   "id": "61a45f00",
   "metadata": {},
   "source": [
    "Si al ejecutar la casilla anterior obtenéis un error porque no tenéis algún paquete instalado, ejecutad la siguiente casilla:"
   ]
  },
  {
   "cell_type": "code",
   "execution_count": null,
   "id": "c0df7800",
   "metadata": {},
   "outputs": [],
   "source": [
    "import sys\n",
    "!conda install --yes --prefix {sys.prefix} numpy networkx"
   ]
  },
  {
   "cell_type": "markdown",
   "id": "993674e8",
   "metadata": {},
   "source": [
    "### 1. Crear un grafo vacío\n",
    "Vamos a inicializar nuestro primer grafo mediante la clase `Graph` proporcionada por `networkx`:"
   ]
  },
  {
   "cell_type": "code",
   "execution_count": 2,
   "id": "9aa84dfa",
   "metadata": {},
   "outputs": [
    {
     "name": "stdout",
     "output_type": "stream",
     "text": [
      "Graph with 0 nodes and 0 edges\n"
     ]
    },
    {
     "data": {
      "text/plain": [
       "<networkx.classes.graph.Graph at 0x7fb1f81104c0>"
      ]
     },
     "execution_count": 2,
     "metadata": {},
     "output_type": "execute_result"
    }
   ],
   "source": [
    "G = nx.Graph(); print(G); G"
   ]
  },
  {
   "cell_type": "markdown",
   "id": "130b9188",
   "metadata": {},
   "source": [
    "¿Cuántos nodos y aristas tiene el grafo anterior?\n",
    "\n",
    "<span style=\"color:green\">*Responde en la casilla de abajo*</span>"
   ]
  },
  {
   "cell_type": "markdown",
   "id": "999aa9e3",
   "metadata": {},
   "source": []
  },
  {
   "cell_type": "markdown",
   "id": "449e3a16",
   "metadata": {},
   "source": [
    "### 2. Cómo poblar un grafo vacío\n",
    "Podemos añadir nodos a un grafo de distintas maneras:\n",
    "- Añadiéndo únicamente un nodo"
   ]
  },
  {
   "cell_type": "code",
   "execution_count": 3,
   "id": "03f3f907",
   "metadata": {},
   "outputs": [
    {
     "name": "stdout",
     "output_type": "stream",
     "text": [
      "Graph with 1 nodes and 0 edges\n"
     ]
    }
   ],
   "source": [
    "G.add_node(1)\n",
    "print(G)"
   ]
  },
  {
   "cell_type": "markdown",
   "id": "db0ee062",
   "metadata": {},
   "source": [
    "Podemos añadir de esta manera cualquier elemento que sea hasheable (excepto el objeto vacío `None`):"
   ]
  },
  {
   "cell_type": "code",
   "execution_count": 4,
   "id": "db70b35d",
   "metadata": {},
   "outputs": [
    {
     "name": "stdout",
     "output_type": "stream",
     "text": [
      "Graph with 3 nodes and 0 edges\n"
     ]
    }
   ],
   "source": [
    "G.add_node(8j)\n",
    "G.add_node(lambda x: x**2)\n",
    "print(G)"
   ]
  },
  {
   "cell_type": "markdown",
   "id": "d3f1a7e3",
   "metadata": {},
   "source": [
    "¿Cuántos nodos y aristas tiene nuestro grafo ahora?\n",
    "\n",
    "<span style=\"color:green\">*Responde en la casilla de abajo*</span>"
   ]
  },
  {
   "cell_type": "markdown",
   "id": "ca5ae2ec",
   "metadata": {},
   "source": []
  },
  {
   "cell_type": "markdown",
   "id": "1a543913",
   "metadata": {},
   "source": [
    "- Añadiendo varios nodos de forma simultánea a través de un iterable (`list`, `tuple`, `set`, `dict` ...)"
   ]
  },
  {
   "cell_type": "code",
   "execution_count": 5,
   "id": "4c9df73d",
   "metadata": {},
   "outputs": [
    {
     "name": "stdout",
     "output_type": "stream",
     "text": [
      "Graph with 13 nodes and 0 edges\n"
     ]
    }
   ],
   "source": [
    "G.add_nodes_from(\n",
    "    [\"nodefromlist1\", \"nodefromlist2\", 45, lambda x: x**3]\n",
    ")\n",
    "G.add_nodes_from(\n",
    "    (\"nodefromtuple\", \"nodefromtuple2\")\n",
    ")\n",
    "G.add_nodes_from(\n",
    "    {\"nodefromset1\", \"nodefromset2\"}\n",
    ")\n",
    "G.add_nodes_from(\n",
    "    {\n",
    "        \"nodefromdict1\": 66,\n",
    "        \"nodefromdict2\": 67,\n",
    "    }\n",
    ")\n",
    "print(G)"
   ]
  },
  {
   "cell_type": "markdown",
   "id": "9314103f",
   "metadata": {},
   "source": [
    "- Añadiendo varios nodos de forma simultánea a través de un iterable, cuyos elementos tienen la forma:\n",
    "\n",
    "`(nodo, {nombreDeLaCaracterística1 : característica1, ...})`"
   ]
  },
  {
   "cell_type": "code",
   "execution_count": 6,
   "id": "315fa70f",
   "metadata": {},
   "outputs": [
    {
     "name": "stdout",
     "output_type": "stream",
     "text": [
      "Graph with 15 nodes and 0 edges\n"
     ]
    }
   ],
   "source": [
    "G.add_nodes_from(\n",
    "    [\n",
    "        (40, {\"color\": \"red\"}),\n",
    "        (728, {\"color\": \"purple\"})\n",
    "    ]\n",
    ")\n",
    "print(G)"
   ]
  },
  {
   "cell_type": "markdown",
   "id": "3a3ac8e5",
   "metadata": {},
   "source": [
    "Hasta ahora hemos ido añadiendo nodos solitarios (es decir, sin aristas que los unan). Para añadir aristas, se puede proceder también de distintas maneras.\n",
    "- Añadir una sola arista"
   ]
  },
  {
   "cell_type": "code",
   "execution_count": 7,
   "id": "71c951e2",
   "metadata": {},
   "outputs": [
    {
     "name": "stdout",
     "output_type": "stream",
     "text": [
      "Graph with 15 nodes and 1 edges\n",
      "Graph with 16 nodes and 2 edges\n"
     ]
    }
   ],
   "source": [
    "G.add_edge(1, 40)\n",
    "print(G)\n",
    "G.add_edge(1,\"luz\") # Si añadimos una arista con nodos que no se hallan en el grafo, estos son añadidos automáticamente\n",
    "print(G)"
   ]
  },
  {
   "cell_type": "markdown",
   "id": "a1ef6e42",
   "metadata": {},
   "source": [
    "- Añadir varias aristas de forma simultánea a través de un iterable"
   ]
  },
  {
   "cell_type": "code",
   "execution_count": 8,
   "id": "5cc39967",
   "metadata": {},
   "outputs": [
    {
     "name": "stdout",
     "output_type": "stream",
     "text": [
      "Graph with 16 nodes and 4 edges\n"
     ]
    }
   ],
   "source": [
    "G.add_edges_from(\n",
    "    [\n",
    "        (40, \"luz\"),\n",
    "        (728, \"nodefromlist1\")\n",
    "    ]\n",
    ")\n",
    "print(G)"
   ]
  },
  {
   "cell_type": "markdown",
   "id": "78cda0f2",
   "metadata": {},
   "source": [
    "A la hora de añadir aristas, se pueden especificar propiedades a la misma, mediante asignación a parámetros clave."
   ]
  },
  {
   "cell_type": "code",
   "execution_count": 9,
   "id": "07a3f238",
   "metadata": {
    "scrolled": true
   },
   "outputs": [
    {
     "name": "stdout",
     "output_type": "stream",
     "text": [
      "Graph with 16 nodes and 5 edges\n"
     ]
    }
   ],
   "source": [
    "G.add_edge(40, \"nodefromlist2\", weight=5)\n",
    "print(G)"
   ]
  },
  {
   "cell_type": "markdown",
   "id": "44d3fa59",
   "metadata": {},
   "source": [
    "Existen más maneras de añadir nodos, aristas, propiedades... Podéis consultarlo en la documentación si os resulta interesante.\n",
    "\n",
    "Un detalle remarcable de `networkx`, es que mediante el método `add_node()`, podemos incluso añadir...  ¡OTRO GRAFO!"
   ]
  },
  {
   "cell_type": "code",
   "execution_count": 10,
   "id": "6a41dbbd",
   "metadata": {},
   "outputs": [
    {
     "name": "stdout",
     "output_type": "stream",
     "text": [
      "Graph with 21 nodes and 5 edges\n"
     ]
    }
   ],
   "source": [
    "H = nx.Graph()\n",
    "H.add_nodes_from([5,6,7,8,9])\n",
    "G.add_nodes_from(H)\n",
    "print(G)"
   ]
  },
  {
   "cell_type": "markdown",
   "id": "816fdf36",
   "metadata": {},
   "source": [
    "### 3. Propiedades generales de un grafo\n",
    "#### 3.1 Nodos\n",
    "\n",
    "Es sencillo acceder a los nodos de un grafo:"
   ]
  },
  {
   "cell_type": "code",
   "execution_count": 11,
   "id": "aa88d3e8",
   "metadata": {
    "scrolled": true
   },
   "outputs": [
    {
     "data": {
      "text/plain": [
       "NodeView((1, 8j, <function <lambda> at 0x7fb1f8102560>, 'nodefromlist1', 'nodefromlist2', 45, <function <lambda> at 0x7fb1f81024d0>, 'nodefromtuple', 'nodefromtuple2', 'nodefromset2', 'nodefromset1', 'nodefromdict1', 'nodefromdict2', 40, 728, 'luz', 5, 6, 7, 8, 9))"
      ]
     },
     "execution_count": 11,
     "metadata": {},
     "output_type": "execute_result"
    }
   ],
   "source": [
    "G.nodes"
   ]
  },
  {
   "cell_type": "markdown",
   "id": "61fede1a",
   "metadata": {},
   "source": [
    "La clase `NodeView` es una estructura de datos que hereda de la clase `dict`. Eso quiere decir que, para acceder a la información contenida en alguno de los nodos, utilizamos la misma sintaxis que cuando deseamos acceder al `value` almacenado por una `key` en un diccionario"
   ]
  },
  {
   "cell_type": "code",
   "execution_count": 12,
   "id": "1d4cfa1c",
   "metadata": {},
   "outputs": [
    {
     "name": "stdout",
     "output_type": "stream",
     "text": [
      "El contenido del nodo 1 es: {}\n",
      "El contenido del nodo 728 es: {'color': 'purple'}\n",
      "El contenido del nodo 'nodefromlist1' es: {}\n"
     ]
    }
   ],
   "source": [
    "nodos = G.nodes\n",
    "print(\"El contenido del nodo 1 es: %s\" % nodos[1])\n",
    "print(\"El contenido del nodo 728 es: %s\" % nodos[728])\n",
    "print(\"El contenido del nodo 'nodefromlist1' es: %s\" % nodos['nodefromlist1'])"
   ]
  },
  {
   "cell_type": "markdown",
   "id": "af8d827a",
   "metadata": {},
   "source": [
    "¿Qué propiedad contiene el nodo `40`?\n",
    "\n",
    "<span style=\"color:green\">*Escribe el código en la casilla de abajo y responde con un comentario o print*</span>"
   ]
  },
  {
   "cell_type": "code",
   "execution_count": null,
   "id": "c5329ae6",
   "metadata": {},
   "outputs": [],
   "source": []
  },
  {
   "cell_type": "markdown",
   "id": "f2d9386a",
   "metadata": {},
   "source": [
    "Esto nos permite comprobar un detalle de vital importancia: a la hora de añadir nodos que sean de tipo `str` hay que tener mucho cuidado. Bajo ciertas condiciones, `python` puede interpretar un `str` como un iterable cuyos elementos son las letras que lo conforman. Por eso, dependiendo de la manera en la que se añadan los nodos, se obtienen resultados completamente distintos, como podremos comprobar a continuación:"
   ]
  },
  {
   "cell_type": "code",
   "execution_count": 13,
   "id": "3b9a1c13",
   "metadata": {},
   "outputs": [
    {
     "name": "stdout",
     "output_type": "stream",
     "text": [
      "Nodos presentes en el grafo:\n",
      "[1, 8j, <function <lambda> at 0x7fb1f8102560>, 'nodefromlist1', 'nodefromlist2', 45, <function <lambda> at 0x7fb1f81024d0>, 'nodefromtuple', 'nodefromtuple2', 'nodefromset2', 'nodefromset1', 'nodefromdict1', 'nodefromdict2', 40, 728, 'luz', 5, 6, 7, 8, 9, 'upv']\n",
      "Nodos presentes en el grafo:\n",
      "[1, 8j, <function <lambda> at 0x7fb1f8102560>, 'nodefromlist1', 'nodefromlist2', 45, <function <lambda> at 0x7fb1f81024d0>, 'nodefromtuple', 'nodefromtuple2', 'nodefromset2', 'nodefromset1', 'nodefromdict1', 'nodefromdict2', 40, 728, 'luz', 5, 6, 7, 8, 9, 'upv', 'u', 'p', 'v']\n"
     ]
    }
   ],
   "source": [
    "G.add_node(\"upv\")\n",
    "print(\"Nodos presentes en el grafo:\\n%s\" % G.nodes)\n",
    "\n",
    "G.add_nodes_from(\"upv\")\n",
    "print(\"Nodos presentes en el grafo:\\n%s\" % G.nodes)"
   ]
  },
  {
   "cell_type": "markdown",
   "id": "81459787",
   "metadata": {},
   "source": [
    "¿Qué es lo que ha pasado?\n",
    "\n",
    "<span style=\"color:green\">*Escribe la respuesta en la casilla de abajo*</span>"
   ]
  },
  {
   "cell_type": "markdown",
   "id": "c6a0c565",
   "metadata": {},
   "source": []
  },
  {
   "cell_type": "markdown",
   "id": "757f26e1",
   "metadata": {},
   "source": [
    "#### 3.2 Aristas\n",
    "También podemos acceder a las aristas"
   ]
  },
  {
   "cell_type": "code",
   "execution_count": 14,
   "id": "c53be507",
   "metadata": {
    "scrolled": true
   },
   "outputs": [
    {
     "data": {
      "text/plain": [
       "EdgeView([(1, 40), (1, 'luz'), ('nodefromlist1', 728), ('nodefromlist2', 40), (40, 'luz')])"
      ]
     },
     "execution_count": 14,
     "metadata": {},
     "output_type": "execute_result"
    }
   ],
   "source": [
    "G.edges"
   ]
  },
  {
   "cell_type": "markdown",
   "id": "1e8ce223",
   "metadata": {},
   "source": [
    "Si le pasamos un nodo como argumento, obtenemos las aristas de ese nodo"
   ]
  },
  {
   "cell_type": "code",
   "execution_count": 15,
   "id": "9520d63c",
   "metadata": {
    "scrolled": false
   },
   "outputs": [
    {
     "data": {
      "text/plain": [
       "EdgeDataView([(1, 40), (1, 'luz')])"
      ]
     },
     "execution_count": 15,
     "metadata": {},
     "output_type": "execute_result"
    }
   ],
   "source": [
    "G.edges(1)"
   ]
  },
  {
   "cell_type": "markdown",
   "id": "3886e683",
   "metadata": {},
   "source": [
    "#### 3.3 Cardinalidades\n",
    "\n",
    "Es sencillo conocer el cardinal (o número de elementos) del conjunto de los nodos y de las aristas de un grafo.\n",
    "Por ejemplo, si quisiéramos guardar en una variable `n` el número de nodos que poblan el grafo y en `m` el número de aristas del mismo:"
   ]
  },
  {
   "cell_type": "code",
   "execution_count": 16,
   "id": "71d24625",
   "metadata": {
    "scrolled": true
   },
   "outputs": [
    {
     "name": "stdout",
     "output_type": "stream",
     "text": [
      "El número de nodos de nuestro grafo es 25\n",
      "El número de aristas de nuestro grafo es 5\n"
     ]
    }
   ],
   "source": [
    "(n, m) = (G.number_of_nodes(), G.number_of_edges())\n",
    "print(\"El número de nodos de nuestro grafo es %d\" % n)\n",
    "print(\"El número de aristas de nuestro grafo es %d\" % m)"
   ]
  },
  {
   "cell_type": "markdown",
   "id": "81a2f163",
   "metadata": {},
   "source": [
    "#### 3.4 Adyacencia de un nodo\n",
    "También es posible conocer los nodos adyacentes de un determinado nodo. Hay dos formas:\n",
    "- Mediante el uso de `adj`"
   ]
  },
  {
   "cell_type": "code",
   "execution_count": 17,
   "id": "d609aeb5",
   "metadata": {
    "scrolled": true
   },
   "outputs": [
    {
     "data": {
      "text/plain": [
       "AtlasView({1: {}, 'luz': {}, 'nodefromlist2': {'weight': 5}})"
      ]
     },
     "execution_count": 17,
     "metadata": {},
     "output_type": "execute_result"
    }
   ],
   "source": [
    "G.adj[40]"
   ]
  },
  {
   "cell_type": "markdown",
   "id": "54437cac",
   "metadata": {},
   "source": [
    "Este método nos devuelve un objeto llamado `AtlasView`, que hereda de un diccionario. Sus `keys` son los nodos a los que el nodo de interés es adyacente, mientras que los `values` son `dict` que contienen información sobre la arista que los une.\n",
    "\n",
    "- Mediante el uso de `neighbors`\n",
    "\n",
    "Cuidado, que `neighbors` devuelve in iterador. Si lo que nos interesa es ver los elementos, es recomentable transformar dicho iterador a `list`:"
   ]
  },
  {
   "cell_type": "code",
   "execution_count": 18,
   "id": "5e991151",
   "metadata": {},
   "outputs": [
    {
     "data": {
      "text/plain": [
       "[1, 'luz', 'nodefromlist2']"
      ]
     },
     "execution_count": 18,
     "metadata": {},
     "output_type": "execute_result"
    }
   ],
   "source": [
    "list(G.neighbors(40))"
   ]
  },
  {
   "cell_type": "markdown",
   "id": "5fdb7b38",
   "metadata": {},
   "source": [
    "Dado que la clase `AtlasView` hereda de la clase `dict`, lo anterior también se puede conseguir, únicamente hacen falta las siguientes instrucciones:"
   ]
  },
  {
   "cell_type": "code",
   "execution_count": 19,
   "id": "1c46b1c6",
   "metadata": {},
   "outputs": [
    {
     "data": {
      "text/plain": [
       "[1, 'luz', 'nodefromlist2']"
      ]
     },
     "execution_count": 19,
     "metadata": {},
     "output_type": "execute_result"
    }
   ],
   "source": [
    "list(G.adj[40].keys())"
   ]
  },
  {
   "cell_type": "markdown",
   "id": "5fed66eb",
   "metadata": {},
   "source": [
    "- Accediendo directamente al nodo desde el grafo (el resultado es equivalente a emplear `adj`)"
   ]
  },
  {
   "cell_type": "code",
   "execution_count": 20,
   "id": "f7546f82",
   "metadata": {
    "scrolled": false
   },
   "outputs": [
    {
     "data": {
      "text/plain": [
       "AtlasView({1: {}, 'luz': {}, 'nodefromlist2': {'weight': 5}})"
      ]
     },
     "execution_count": 20,
     "metadata": {},
     "output_type": "execute_result"
    }
   ],
   "source": [
    "G[40]"
   ]
  },
  {
   "cell_type": "markdown",
   "id": "1678d16c",
   "metadata": {},
   "source": [
    "Un detalle interesante es que uno puede acceder a los atributos de, por ejemplo las aristas, empleando el método anterior junto a la \"*concatenación*\" (cuidado que aquí estoy haciendo un abuso de lenguaje al usar esta palabra) de accesos mediante corchetes:"
   ]
  },
  {
   "cell_type": "code",
   "execution_count": 21,
   "id": "a8fd79b3",
   "metadata": {},
   "outputs": [
    {
     "data": {
      "text/plain": [
       "5"
      ]
     },
     "execution_count": 21,
     "metadata": {},
     "output_type": "execute_result"
    }
   ],
   "source": [
    "G[40][\"nodefromlist2\"][\"weight\"]"
   ]
  },
  {
   "cell_type": "markdown",
   "id": "9790e1d7",
   "metadata": {},
   "source": [
    "También existen maneras de acceder de forma iterada a atributos de, por ejemplo, las aristas"
   ]
  },
  {
   "cell_type": "code",
   "execution_count": 22,
   "id": "a5ab9ca0",
   "metadata": {},
   "outputs": [
    {
     "name": "stdout",
     "output_type": "stream",
     "text": [
      "La arista que une los nodos 1 y 40 tiene un peso de None\n",
      "La arista que une los nodos 1 y luz tiene un peso de None\n",
      "La arista que une los nodos nodefromlist1 y 728 tiene un peso de None\n",
      "La arista que une los nodos nodefromlist2 y 40 tiene un peso de 5\n",
      "La arista que une los nodos 40 y luz tiene un peso de None\n"
     ]
    }
   ],
   "source": [
    "for (u, v, datos) in G.edges.data(\"weight\"):\n",
    "    print(\n",
    "        \"La arista que une los nodos %s y %s tiene un peso de %s\"\n",
    "        % (u, v, datos)\n",
    "    )"
   ]
  },
  {
   "cell_type": "markdown",
   "id": "bf29f192",
   "metadata": {},
   "source": [
    "¿Qué resultado obtenemos para aquellas aristas en las que no hemos definido un peso?\n",
    "\n",
    "<span style=\"color:green\">*Responde en la casilla de abajo*</span>"
   ]
  },
  {
   "cell_type": "markdown",
   "id": "f02b59da",
   "metadata": {},
   "source": []
  },
  {
   "cell_type": "markdown",
   "id": "3c93203c",
   "metadata": {},
   "source": [
    "#### 3.5 Borrado de contenido de un grafo**\n",
    "Realmente, no es una propiedad (por eso los asteriscos). Podemos borrar cosas de un grafo mediante unas sencillas instrucciones"
   ]
  },
  {
   "cell_type": "code",
   "execution_count": 23,
   "id": "36dfb192",
   "metadata": {},
   "outputs": [
    {
     "name": "stdout",
     "output_type": "stream",
     "text": [
      "Antes de borrar nodos:\n",
      "[1, 8j, <function <lambda> at 0x7fb1f8102560>, 'nodefromlist1', 'nodefromlist2', 45, <function <lambda> at 0x7fb1f81024d0>, 'nodefromtuple', 'nodefromtuple2', 'nodefromset2', 'nodefromset1', 'nodefromdict1', 'nodefromdict2', 40, 728, 'luz', 5, 6, 7, 8, 9, 'upv', 'u', 'p', 'v']\n",
      "\n",
      "Después de borrar nodos:\n",
      "[1, 8j, <function <lambda> at 0x7fb1f8102560>, 'nodefromlist1', 'nodefromlist2', 45, <function <lambda> at 0x7fb1f81024d0>, 'nodefromtuple', 'nodefromtuple2', 'nodefromset2', 'nodefromset1', 'nodefromdict1', 'nodefromdict2', 40, 'luz', 5, 6, 7, 8, 9, 'v']\n"
     ]
    }
   ],
   "source": [
    "print(\"Antes de borrar nodos:\\n%s\" % G.nodes)\n",
    "G.remove_node(728)\n",
    "G.remove_nodes_from(\n",
    "    [\"u\", \"p\", \"upv\"]\n",
    ")\n",
    "print(\"\\nDespués de borrar nodos:\\n%s\" % G.nodes)"
   ]
  },
  {
   "cell_type": "markdown",
   "id": "f97c20a5",
   "metadata": {},
   "source": [
    "Lo mismo se puede hacer con las aristas"
   ]
  },
  {
   "cell_type": "code",
   "execution_count": 24,
   "id": "1aad2f99",
   "metadata": {},
   "outputs": [
    {
     "name": "stdout",
     "output_type": "stream",
     "text": [
      "Antes de borrar aristas:\n",
      "[(1, 40), (1, 'luz'), ('nodefromlist2', 40), (40, 'luz')]\n",
      "\n",
      "Después de borrar aristas:\n",
      "[(1, 'luz'), (40, 'luz')]\n"
     ]
    }
   ],
   "source": [
    "print(\"Antes de borrar aristas:\\n%s\" % G.edges)\n",
    "G.remove_edge(1, 40)\n",
    "G.remove_edges_from(\n",
    "    [\n",
    "        (40, \"nodefromlist2\"),\n",
    "        (\"nodefromlist1\", 728)\n",
    "    ]\n",
    ")\n",
    "print(\"\\nDespués de borrar aristas:\\n%s\" % G.edges)"
   ]
  },
  {
   "cell_type": "markdown",
   "id": "1a82a586",
   "metadata": {},
   "source": [
    "O incluso borrar todo el contenido de un grafo, para así tener un grafo vacío"
   ]
  },
  {
   "cell_type": "code",
   "execution_count": 25,
   "id": "cc416899",
   "metadata": {
    "scrolled": true
   },
   "outputs": [
    {
     "name": "stdout",
     "output_type": "stream",
     "text": [
      "Graph with 0 nodes and 0 edges\n",
      "Graph with 0 nodes and 0 edges\n"
     ]
    }
   ],
   "source": [
    "G.clear()\n",
    "print(G)\n",
    "H.clear()\n",
    "print(H)"
   ]
  },
  {
   "cell_type": "markdown",
   "id": "91c139d9",
   "metadata": {},
   "source": [
    "### 4. Uso del constructor de la clase `Graph`\n",
    "Llegados a este punto, hemos aprendido a crear un grafo vacío, poblarlo con nodos, añadir aristas y obtener varias propiedades de un grafo.\n",
    "\n",
    "La clase `Graph` contiene un constructor (método de una clase que permite crear una instancia de la misma) muy versátil que nos permite crear grafos a partir de distintas estructuras de datos de `python`\n",
    "\n",
    "- A partir de un iterador de aristas"
   ]
  },
  {
   "cell_type": "code",
   "execution_count": 26,
   "id": "c6b5bfed",
   "metadata": {},
   "outputs": [
    {
     "data": {
      "text/plain": [
       "EdgeView([(1, 2), (1, 'n'), (67, 'c')])"
      ]
     },
     "execution_count": 26,
     "metadata": {},
     "output_type": "execute_result"
    }
   ],
   "source": [
    "aristas = [\n",
    "    (1, 2),\n",
    "    (\"n\", 1),\n",
    "    (67, \"c\")\n",
    "]\n",
    "G = nx.Graph(\n",
    "    aristas\n",
    ")\n",
    "G.edges"
   ]
  },
  {
   "cell_type": "markdown",
   "id": "ae9ffffb",
   "metadata": {},
   "source": [
    "- A partir de un `dict` de adyacencias (`key` es el nombre de un nodo, `value` es un iterador con los nodos adyacentes)"
   ]
  },
  {
   "cell_type": "code",
   "execution_count": 27,
   "id": "44488e94",
   "metadata": {},
   "outputs": [
    {
     "data": {
      "text/plain": [
       "EdgeView([(0, 1), (0, 2), (0, 3), (0, 4), (1, 5), (1, 6), ('k', 6), ('k', 8)])"
      ]
     },
     "execution_count": 27,
     "metadata": {},
     "output_type": "execute_result"
    }
   ],
   "source": [
    "del G\n",
    "adyacencias = {\n",
    "    0 : (1,2,3,4),\n",
    "    1 : (5,6),\n",
    "    \"k\" : (6, 8)\n",
    "}\n",
    "G = nx.Graph(adyacencias)\n",
    "G.edges"
   ]
  },
  {
   "cell_type": "markdown",
   "id": "095a89f1",
   "metadata": {},
   "source": [
    "- A partir de... ¡otro grafo!"
   ]
  },
  {
   "cell_type": "code",
   "execution_count": 28,
   "id": "f7986897",
   "metadata": {},
   "outputs": [
    {
     "name": "stdout",
     "output_type": "stream",
     "text": [
      "[(1, 2), (1, 'n'), (67, 'c')]\n",
      "[(1, 2), (1, 'n'), (67, 'c')]\n"
     ]
    }
   ],
   "source": [
    "H = nx.Graph(aristas)\n",
    "G = nx.Graph(H)\n",
    "print(H.edges)\n",
    "print(G.edges)"
   ]
  },
  {
   "cell_type": "markdown",
   "id": "60c81d55",
   "metadata": {},
   "source": [
    "Estos dos grafos tienen el mismo contenido, pero son objetos diferentes"
   ]
  },
  {
   "cell_type": "code",
   "execution_count": 29,
   "id": "37d47809",
   "metadata": {},
   "outputs": [
    {
     "name": "stdout",
     "output_type": "stream",
     "text": [
      "False\n",
      "False\n"
     ]
    }
   ],
   "source": [
    "print(H == G)\n",
    "print(H is G)"
   ]
  },
  {
   "cell_type": "markdown",
   "id": "7c83b874",
   "metadata": {},
   "source": [
    "Esto último puede resultar extraño. ¿Para qué iba a servir esto? La utilidad se ilustra en el apartado siguiente\n",
    "\n",
    "### 5.Tipos de grafos y sus constructores\n",
    "\n",
    "A estas alturas ya estaréis familiarizados con los distintos tipos de grafos. `networkx` permite la creación de los siguientes:\n",
    "- `Graph`: un grafo no dirigido\n",
    "- `DiGraph`: un grafo dirigido\n",
    "- `MultiGraph`: un grafo no dirigido donde puede haber varias aristas uniendo una misma pareja de nodos\n",
    "- `MultiDiGraph`: un grafo dirigido donde puede haber varias aristas uniendo una misma pareja de nodos\n",
    "\n",
    "Un detalle adicional es que cada una de estas clases permite la existencia de lazos (aristas que nacen en un nodo y tienen como destino ese mismo nodo).\n",
    "\n",
    "Todos los constructores de las clases anteriores funcionan de la misma manera."
   ]
  },
  {
   "cell_type": "code",
   "execution_count": 30,
   "id": "79392d02",
   "metadata": {},
   "outputs": [
    {
     "name": "stdout",
     "output_type": "stream",
     "text": [
      "[(1, 2), (1, 'n'), (2, 1), ('n', 1), (67, 'c'), ('c', 67)]\n",
      "[(0, 1, 0), (0, 2, 0), (0, 3, 0), (0, 4, 0), (1, 5, 0), (1, 6, 0), ('k', 6, 0), ('k', 8, 0)]\n"
     ]
    }
   ],
   "source": [
    "J = nx.DiGraph(G)\n",
    "print(J.edges)\n",
    "K = nx.MultiGraph(adyacencias)\n",
    "print(K.edges)"
   ]
  },
  {
   "cell_type": "markdown",
   "id": "f8421f3a",
   "metadata": {},
   "source": [
    "De la casilla anterior, ¿hay algún resultado que no te esperabas?\n",
    "\n",
    "<span style=\"color:green\">*Responde en la casilla de abajo*</span>"
   ]
  },
  {
   "cell_type": "markdown",
   "id": "d6766989",
   "metadata": {},
   "source": []
  },
  {
   "cell_type": "markdown",
   "id": "1cb22ecd",
   "metadata": {},
   "source": [
    "### 6. Generadores de grafos\n",
    "\n",
    "`networkx` viene equipado con una gran familia de generadores de grafos, como `complete_bipartite_graph`, `barbell_graph`, `\n",
    "erdos_renyi_graph` o `barabasi_albert_graph`. No vamos a ver todos, pero es interesante que sepáis que existen."
   ]
  },
  {
   "cell_type": "code",
   "execution_count": 31,
   "id": "40bbec44",
   "metadata": {},
   "outputs": [
    {
     "name": "stdout",
     "output_type": "stream",
     "text": [
      "[(1, 2), (1, 4), (1, 5), (1, 8), (2, 4), (3, 9), (4, 11)]\n"
     ]
    }
   ],
   "source": [
    "erdosRenyi = nx.erdos_renyi_graph(12, 0.15)\n",
    "print(erdosRenyi.edges)"
   ]
  },
  {
   "cell_type": "markdown",
   "id": "86f9ab84",
   "metadata": {},
   "source": [
    "### 7. Construcción de un grafo a partir de una matriz de adyacencia\n",
    "\n",
    "Ya sabéis que todos los grafos pueden representarse como una matriz de adyacencia. Los constructores de grafos presentados anteriormente saben interpretar matrices (la clase `numpy.array`) y generar el grafo adecuado según el constructor empleado."
   ]
  },
  {
   "cell_type": "code",
   "execution_count": 32,
   "id": "f1ac6eb6",
   "metadata": {},
   "outputs": [
    {
     "name": "stdout",
     "output_type": "stream",
     "text": [
      "[(0, 1), (0, 2), (1, 2)]\n"
     ]
    }
   ],
   "source": [
    "adjmat = np.array(\n",
    "    [\n",
    "        [0, 1 ,1],\n",
    "        [0, 0, 1],\n",
    "        [1, 0, 0]\n",
    "    ]\n",
    ")\n",
    "L = nx.Graph(adjmat)\n",
    "print(L.edges)"
   ]
  },
  {
   "cell_type": "markdown",
   "id": "7f8bf266",
   "metadata": {},
   "source": [
    "También podemos obtener la matriz de adyacencia de dos formas:\n",
    "- Como matriz *sparse*"
   ]
  },
  {
   "cell_type": "code",
   "execution_count": 33,
   "id": "d0018d26",
   "metadata": {
    "scrolled": true
   },
   "outputs": [
    {
     "name": "stdout",
     "output_type": "stream",
     "text": [
      "  (0, 1)\t1\n",
      "  (0, 2)\t1\n",
      "  (1, 0)\t1\n",
      "  (1, 2)\t1\n",
      "  (2, 0)\t1\n",
      "  (2, 1)\t1\n"
     ]
    },
    {
     "name": "stderr",
     "output_type": "stream",
     "text": [
      "/tmp/ipykernel_103/772154353.py:1: FutureWarning: adjacency_matrix will return a scipy.sparse array instead of a matrix in Networkx 3.0.\n",
      "  print(nx.adjacency_matrix(L))\n"
     ]
    }
   ],
   "source": [
    "print(nx.adjacency_matrix(L))"
   ]
  },
  {
   "cell_type": "markdown",
   "id": "848ed8c4",
   "metadata": {},
   "source": [
    "- Como matriz entera"
   ]
  },
  {
   "cell_type": "code",
   "execution_count": 34,
   "id": "2214e301",
   "metadata": {
    "scrolled": true
   },
   "outputs": [
    {
     "name": "stdout",
     "output_type": "stream",
     "text": [
      "[[0. 1. 1.]\n",
      " [1. 0. 1.]\n",
      " [1. 1. 0.]]\n"
     ]
    }
   ],
   "source": [
    "print(nx.to_numpy_array(L))"
   ]
  },
  {
   "cell_type": "markdown",
   "id": "1735e3cb",
   "metadata": {},
   "source": [
    "### 8. Creación de grafos a partir de ficheros\n",
    "\n",
    "En esta sección veremos 3 maneras de abrir 3 tipos de ficheros para crear un grafo.\n",
    "Hay muchísimas maneras de guardar un grafo y por lo tanto, las mismas (¡o más!) de leer un fichero para crear un grafo. Todas las formas soportadas por `networkx` se encuentran en [este enlace](https://networkx.org/documentation/stable/reference/readwrite/index.html).\n",
    "\n",
    "- A partir de un fichero `GraphML`\n",
    "\n",
    "<span style=\"color:green\">*Exportad la red que generasteis ayer con Gephi en formato `GraphML`, movedla a la carpeta de trabajo donde se encuentre este documento y completad el código de la casilla de abajo*</span>"
   ]
  },
  {
   "cell_type": "code",
   "execution_count": null,
   "id": "e68c57b3",
   "metadata": {},
   "outputs": [],
   "source": [
    "nombreDelFicheroGraphML = \"\" # Completa con el nombre del fichero\n",
    "\n",
    "grafoGephi = nx.read_graphml(nombreDelFicheroGraphML)"
   ]
  },
  {
   "cell_type": "markdown",
   "id": "e73e20c9",
   "metadata": {},
   "source": [
    "- A partir de una lista de aristas (a veces se usa la extensión `.edges`)\n",
    "\n",
    "<span style=\"color:green\">*Entrad en <a href=https://networkrepository.com/index.php>este enlace</a>, elegid una red biológica, descargad el fichero, descomprimidlo en esta carpeta de trabajo y completad el código de la casilla de abajo*</span>"
   ]
  },
  {
   "cell_type": "code",
   "execution_count": null,
   "id": "95b97271",
   "metadata": {
    "scrolled": false
   },
   "outputs": [],
   "source": [
    "nombreDelFicheroRedBio = \"\" # Completa con el nombre del fichero\n",
    "\n",
    "grafoBio = nx.read_edgelist(nombreDelFicheroRedBio)\n",
    "print(grafoBio.edges)"
   ]
  },
  {
   "cell_type": "code",
   "execution_count": null,
   "id": "24ce11ba",
   "metadata": {
    "scrolled": false
   },
   "outputs": [],
   "source": [
    "# Si se diese el caso de que la función fallase\n",
    "# (porque por ejemplo la lista de aristas incluye información sobre los pesos por ejemplo)\n",
    "# emplead la siguiente función\n",
    "\n",
    "grafoBio = nx.read_weighted_edgelist(nombreDelFicheroRedBio)\n",
    "print(grafoBio.edges)"
   ]
  },
  {
   "cell_type": "markdown",
   "id": "5eddeafe",
   "metadata": {},
   "source": [
    "- A partir de una matriz de adyacencia en formato `.csv`"
   ]
  },
  {
   "cell_type": "code",
   "execution_count": 35,
   "id": "72c49ca7",
   "metadata": {},
   "outputs": [
    {
     "name": "stdout",
     "output_type": "stream",
     "text": [
      "[(0, 0), (0, 1), (0, 3), (0, 4), (0, 6), (0, 2), (0, 5), (1, 1), (1, 2), (1, 4), (1, 5), (1, 3), (1, 6), (2, 2), (2, 3), (2, 6), (2, 4), (2, 5), (3, 3), (3, 4), (3, 5), (3, 6), (4, 4), (4, 5), (4, 6), (5, 5), (5, 6), (6, 6)]\n"
     ]
    }
   ],
   "source": [
    "# Como no disponemos de una, vamos a crearla y luego vamos a leerla.\n",
    "matAleatoria = np.random.randint(0, high=5, size=(7,7))\n",
    "np.savetxt(\"adjacenciaNumpy.csv\", matAleatoria, delimiter=\",\")\n",
    "\n",
    "grafoDesdeAdj = nx.Graph(\n",
    "    np.genfromtxt(\"adjacenciaNumpy.csv\", delimiter=',')\n",
    ")\n",
    "print(grafoDesdeAdj.edges)"
   ]
  },
  {
   "cell_type": "markdown",
   "id": "f74a3518",
   "metadata": {},
   "source": [
    "### 9. Métricas\n",
    "\n",
    "Al igual que `Gephi` y `Cytoscape`, `networkx` permite el cálculo de distintas métricas sobre un grafo. Emplearemos en este paso el grafo `grafoDesdeAdj` creado en el apartado anterior.\n",
    "\n",
    "#### 9.1 Grado medio\n",
    "\n",
    "Desgraciadamente, no existe función para el cálculo del grado medio de un grafo no dirigido. Sin embargo, mediante `python` y aplicando la definición de grado medio\n",
    "\n",
    "$$\n",
    "\\frac{2\\left|E\\right|}{n}\n",
    "$$\n",
    "\n",
    "*donde $\\left|E\\right|$ es el cardinal de aristas y $n$ el cardinal de nodos*,\n",
    "\n",
    "podemos definir una función que lleve a cabo ese cálculo para nosotros\n",
    "\n",
    "<span style=\"color:green\">*Completad el código de la casilla de abajo. Si se desea emplear otro grafo en lguar de `grafoDesdeAdj`, solamente hay que cambiar el nombre del grafo*</span>"
   ]
  },
  {
   "cell_type": "code",
   "execution_count": 36,
   "id": "e530c4bd",
   "metadata": {},
   "outputs": [
    {
     "data": {
      "text/plain": [
       "8.0"
      ]
     },
     "execution_count": 36,
     "metadata": {},
     "output_type": "execute_result"
    }
   ],
   "source": [
    "def avgDegree(G):\n",
    "    # Completad el código. Definimos k como el grado medio\n",
    "    k = 2*G.number_of_edges()/G.number_of_nodes()\n",
    "    \n",
    "    return k\n",
    "\n",
    "avgDegree(grafoDesdeAdj)"
   ]
  },
  {
   "cell_type": "markdown",
   "id": "986185fb",
   "metadata": {},
   "source": [
    "#### 9.2 Diámetro"
   ]
  },
  {
   "cell_type": "code",
   "execution_count": 37,
   "id": "5a4646f7",
   "metadata": {},
   "outputs": [
    {
     "data": {
      "text/plain": [
       "1"
      ]
     },
     "execution_count": 37,
     "metadata": {},
     "output_type": "execute_result"
    }
   ],
   "source": [
    "nx.diameter(grafoDesdeAdj)"
   ]
  },
  {
   "cell_type": "markdown",
   "id": "c4408e35",
   "metadata": {},
   "source": [
    "#### 9.3 Excentricidad"
   ]
  },
  {
   "cell_type": "code",
   "execution_count": 38,
   "id": "4612b64a",
   "metadata": {},
   "outputs": [
    {
     "data": {
      "text/plain": [
       "{0: 1, 1: 1, 2: 1, 3: 1, 4: 1, 5: 1, 6: 1}"
      ]
     },
     "execution_count": 38,
     "metadata": {},
     "output_type": "execute_result"
    }
   ],
   "source": [
    "nx.eccentricity(grafoDesdeAdj)"
   ]
  },
  {
   "cell_type": "markdown",
   "id": "2844c322",
   "metadata": {},
   "source": [
    "#### 9.4 Radio"
   ]
  },
  {
   "cell_type": "code",
   "execution_count": 39,
   "id": "815d279c",
   "metadata": {},
   "outputs": [
    {
     "data": {
      "text/plain": [
       "1"
      ]
     },
     "execution_count": 39,
     "metadata": {},
     "output_type": "execute_result"
    }
   ],
   "source": [
    "nx.radius(grafoDesdeAdj)"
   ]
  },
  {
   "cell_type": "markdown",
   "id": "96d0d77b",
   "metadata": {},
   "source": [
    "#### 9.5 Densidad"
   ]
  },
  {
   "cell_type": "code",
   "execution_count": 40,
   "id": "773f2f12",
   "metadata": {},
   "outputs": [
    {
     "data": {
      "text/plain": [
       "1.3333333333333333"
      ]
     },
     "execution_count": 40,
     "metadata": {},
     "output_type": "execute_result"
    }
   ],
   "source": [
    "nx.density(grafoDesdeAdj)"
   ]
  },
  {
   "cell_type": "markdown",
   "id": "ec33fc65",
   "metadata": {},
   "source": [
    "#### 9.6 Conectividad\n",
    "\n",
    "`networkx` tiene una familia de funciones que nos proporciona información sobre la coenctividad"
   ]
  },
  {
   "cell_type": "code",
   "execution_count": 41,
   "id": "c4ecfe58",
   "metadata": {},
   "outputs": [
    {
     "name": "stdout",
     "output_type": "stream",
     "text": [
      "¿El grafo es conexo? True\n",
      "Número de componentes conexas: 1\n",
      "Componentes conexas:\n",
      "[{0, 1, 2, 3, 4, 5, 6}]\n"
     ]
    }
   ],
   "source": [
    "print(\n",
    "    \"¿El grafo es conexo? %s\"\n",
    "    % nx.is_connected(grafoDesdeAdj)\n",
    ")\n",
    "print(\n",
    "    \"Número de componentes conexas: %d\"\n",
    "    % nx.number_connected_components(grafoDesdeAdj)\n",
    ")\n",
    "print(\n",
    "    \"Componentes conexas:\\n%s\"\n",
    "    % list(nx.connected_components(grafoDesdeAdj))\n",
    ")"
   ]
  },
  {
   "cell_type": "markdown",
   "id": "df5922ba",
   "metadata": {},
   "source": [
    "También existen funciones que estudian la conectividad de grafos dirigidos. Más información [en este enlace](https://networkx.org/documentation/stable/reference/algorithms/component.html).\n",
    "\n",
    "#### 9.7 Comunidades\n",
    "\n",
    "Existen distintos algoritmos para la detección (y generación) de comunidades. Nosotros vamos a probar el algoritmo de Louvain, que es el canónico"
   ]
  },
  {
   "cell_type": "code",
   "execution_count": 42,
   "id": "c221405a",
   "metadata": {},
   "outputs": [
    {
     "data": {
      "text/plain": [
       "[{0, 1, 2, 4}, {3, 5, 6}]"
      ]
     },
     "execution_count": 42,
     "metadata": {},
     "output_type": "execute_result"
    }
   ],
   "source": [
    "nx.algorithms.community.louvain_communities(grafoDesdeAdj)"
   ]
  },
  {
   "cell_type": "markdown",
   "id": "e432543a",
   "metadata": {},
   "source": [
    "#### 9.8 Pagereank\n",
    "\n",
    "El cálculo del pagerank de cada nodo del grafo procede de la siguiente manera"
   ]
  },
  {
   "cell_type": "code",
   "execution_count": 43,
   "id": "83c9137c",
   "metadata": {},
   "outputs": [
    {
     "data": {
      "text/plain": [
       "{0: 0.12734097744090475,\n",
       " 1: 0.16361716720225333,\n",
       " 2: 0.14866456172477518,\n",
       " 3: 0.15626600391257817,\n",
       " 4: 0.13452901602495934,\n",
       " 5: 0.12783304099183054,\n",
       " 6: 0.14174923270269854}"
      ]
     },
     "execution_count": 43,
     "metadata": {},
     "output_type": "execute_result"
    }
   ],
   "source": [
    "nx.pagerank(grafoDesdeAdj)"
   ]
  },
  {
   "cell_type": "markdown",
   "id": "1ce3f17d",
   "metadata": {},
   "source": [
    "#### 9.9 HITS\n",
    "\n",
    "Su cálculo es tan sencillo como el de pagerank"
   ]
  },
  {
   "cell_type": "code",
   "execution_count": 44,
   "id": "a6c640d1",
   "metadata": {},
   "outputs": [
    {
     "name": "stderr",
     "output_type": "stream",
     "text": [
      "/home/lugoibel/.local/lib/python3.10/site-packages/networkx/algorithms/link_analysis/hits_alg.py:78: FutureWarning: adjacency_matrix will return a scipy.sparse array instead of a matrix in Networkx 3.0.\n",
      "  A = nx.adjacency_matrix(G, nodelist=list(G), dtype=float)\n"
     ]
    },
    {
     "data": {
      "text/plain": [
       "({0: 0.12756877733629135,\n",
       "  1: 0.16251577803196463,\n",
       "  2: 0.15197599735620962,\n",
       "  3: 0.15638028707380927,\n",
       "  4: 0.1352094138961787,\n",
       "  5: 0.12393881647388375,\n",
       "  6: 0.14241092983166254},\n",
       " {0: 0.12756877733629138,\n",
       "  1: 0.16251577803196468,\n",
       "  2: 0.15197599735620962,\n",
       "  3: 0.1563802870738093,\n",
       "  4: 0.13520941389617872,\n",
       "  5: 0.12393881647388376,\n",
       "  6: 0.14241092983166256})"
      ]
     },
     "execution_count": 44,
     "metadata": {},
     "output_type": "execute_result"
    }
   ],
   "source": [
    "nx.hits(grafoDesdeAdj)"
   ]
  },
  {
   "cell_type": "markdown",
   "id": "8eca0ec1",
   "metadata": {},
   "source": [
    "#### 9.10 Centralidad\n",
    "\n",
    "Ya conocéis las dos medidas de centralidad principales: *betweeness*, *closeness* y *harmonic closeness*. [Este enlace](https://networkx.org/documentation/stable/reference/algorithms/centrality.html) contiene más información sobre medidas de centralidad."
   ]
  },
  {
   "cell_type": "code",
   "execution_count": 45,
   "id": "c239cca1",
   "metadata": {},
   "outputs": [
    {
     "name": "stdout",
     "output_type": "stream",
     "text": [
      "Betweeness centrality: {0: 0.0, 1: 0.0, 2: 0.0, 3: 0.0, 4: 0.0, 5: 0.0, 6: 0.0}\n",
      "Closeness centrality: {0: 1.0, 1: 1.0, 2: 1.0, 3: 1.0, 4: 1.0, 5: 1.0, 6: 1.0}\n",
      "Harmonic closeness centrality: {0: 6.0, 1: 6.0, 2: 6.0, 3: 6.0, 4: 6.0, 5: 6.0, 6: 6.0}\n"
     ]
    }
   ],
   "source": [
    "print(\n",
    "    \"Betweeness centrality: %s\"\n",
    "    % nx.betweenness_centrality(grafoDesdeAdj)\n",
    ")\n",
    "\n",
    "print(\n",
    "    \"Closeness centrality: %s\"\n",
    "    % nx.closeness_centrality(grafoDesdeAdj)\n",
    ")\n",
    "\n",
    "print(\n",
    "    \"Harmonic closeness centrality: %s\"\n",
    "    % nx.harmonic_centrality(grafoDesdeAdj)\n",
    ")"
   ]
  }
 ],
 "metadata": {
  "kernelspec": {
   "display_name": "Python 3 (ipykernel)",
   "language": "python",
   "name": "python3"
  },
  "language_info": {
   "codemirror_mode": {
    "name": "ipython",
    "version": 3
   },
   "file_extension": ".py",
   "mimetype": "text/x-python",
   "name": "python",
   "nbconvert_exporter": "python",
   "pygments_lexer": "ipython3",
   "version": "3.10.4"
  }
 },
 "nbformat": 4,
 "nbformat_minor": 5
}
