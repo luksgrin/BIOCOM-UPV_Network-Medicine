{
 "cells": [
  {
   "cell_type": "markdown",
   "id": "48e02ceb",
   "metadata": {},
   "source": [
    "# Network Medicine\n",
    "\n",
    "***Lucas Goiriz Beltrán***&emsp;&emsp;&emsp;&emsp;&emsp;&emsp;&emsp;&emsp;*Instituto de Biología Integrativa y de Sistemas (I2SysBio, UV - CSIC) & Departamento de Matemática Aplicada (UPV)*\n",
    "\n",
    "***Alberto Conejero Casares***&emsp;&emsp;&emsp;&emsp;&emsp;&emsp;&emsp;&emsp;&emsp;&emsp;&emsp;&emsp;&emsp;&emsp;&emsp;&emsp;&emsp;&emsp;&emsp;&emsp;&emsp;&emsp;&emsp;&emsp;&emsp;&emsp;&emsp;&emsp;&emsp;&emsp;&emsp;&emsp;&emsp;&emsp;&emsp;&emsp;&emsp;*Departamento de Matemática Aplicada (UPV)*\n",
    "\n",
    "---------------------------------------------------------------------------------------------------------------------\n",
    "\n",
    "## Primeros pasos con `Networkx`\n",
    "\n",
    "*(Los conceptos y procedimientos tratados en este notebook pueden ser consultados, ya sea para solventar dudas como para ampliar conocimientos, en [la documentación oficial de `networkx`](https://networkx.org/documentation/stable/index.html))*\n",
    "\n",
    "Bienvenidos a esta sesión de Network Medicine.\n",
    "El objetivo de hoy va a ser conocer la librería `networkx` de `python`, la cual nos permitirá hacer los mismos (¡o incluso más!) análisis que los programas `Gephi` o `Cytoscape`.\n",
    "\n",
    "Hay que cuidar un detalle **importante**: pese a tener funcionalidades (a priori rudimentarias) de visualización, `networkx` no es una librería de visualización, si no de análisis de grafos.\n",
    "\n",
    "Para la visualización podemos recurrir a otras herramientas, o incluso exportar el grafo para abrirlo en `Gephi` o `Cytoscape`.\n",
    "\n",
    "Para el desarrollo de las prácticas vamos a necesitar las siguientes librerías:"
   ]
  },
  {
   "cell_type": "code",
   "execution_count": null,
   "id": "c624599c",
   "metadata": {},
   "outputs": [],
   "source": [
    "import networkx as nx\n",
    "import numpy as np"
   ]
  },
  {
   "cell_type": "markdown",
   "id": "e989b8b0",
   "metadata": {},
   "source": [
    "Si al ejecutar la casilla anterior obtenéis un error porque no tenéis algún paquete instalado, ejecutad la siguiente casilla:"
   ]
  },
  {
   "cell_type": "code",
   "execution_count": null,
   "id": "4e7f71ff",
   "metadata": {},
   "outputs": [],
   "source": [
    "import sys\n",
    "!conda install --yes --prefix {sys.prefix} numpy networkx"
   ]
  },
  {
   "cell_type": "markdown",
   "id": "d8d444d4",
   "metadata": {},
   "source": [
    "### 1. Crear un grafo vacío\n",
    "Vamos a inicializar nuestro primer grafo mediante la clase `Graph` proporcionada por `networkx`:"
   ]
  },
  {
   "cell_type": "code",
   "execution_count": null,
   "id": "4c5049c4",
   "metadata": {},
   "outputs": [],
   "source": []
  },
  {
   "cell_type": "markdown",
   "id": "a68c6b64",
   "metadata": {},
   "source": [
    "¿Cuántos nodos y aristas tiene el grafo anterior?\n",
    "\n",
    "<span style=\"color:green\">*Responde en la casilla de abajo*</span>"
   ]
  },
  {
   "cell_type": "markdown",
   "id": "cbceff34",
   "metadata": {},
   "source": []
  },
  {
   "cell_type": "markdown",
   "id": "489c26e7",
   "metadata": {},
   "source": [
    "### 2. Cómo poblar un grafo vacío\n",
    "Podemos añadir nodos a un grafo de distintas maneras:\n",
    "- Añadiéndo únicamente un nodo"
   ]
  },
  {
   "cell_type": "code",
   "execution_count": null,
   "id": "c2a03256",
   "metadata": {},
   "outputs": [],
   "source": []
  },
  {
   "cell_type": "markdown",
   "id": "b5123fae",
   "metadata": {},
   "source": [
    "Podemos añadir de esta manera cualquier elemento que sea hasheable (excepto el objeto vacío `None`):"
   ]
  },
  {
   "cell_type": "code",
   "execution_count": null,
   "id": "61fac027",
   "metadata": {},
   "outputs": [],
   "source": []
  },
  {
   "cell_type": "markdown",
   "id": "33ea1663",
   "metadata": {},
   "source": [
    "¿Cuántos nodos y aristas tiene nuestro grafo ahora?\n",
    "\n",
    "<span style=\"color:green\">*Responde en la casilla de abajo*</span>"
   ]
  },
  {
   "cell_type": "markdown",
   "id": "ceef0efb",
   "metadata": {},
   "source": []
  },
  {
   "cell_type": "markdown",
   "id": "bc8553ce",
   "metadata": {},
   "source": [
    "- Añadiendo varios nodos de forma simultánea a través de un iterable (`list`, `tuple`, `set`, `dict` ...)"
   ]
  },
  {
   "cell_type": "code",
   "execution_count": null,
   "id": "48b3cba4",
   "metadata": {},
   "outputs": [],
   "source": []
  },
  {
   "cell_type": "markdown",
   "id": "70fc5088",
   "metadata": {},
   "source": [
    "- Añadiendo varios nodos de forma simultánea a través de un iterable, cuyos elementos tienen la forma:\n",
    "\n",
    "`(nodo, {nombreDeLaCaracterística1 : característica1, ...})`"
   ]
  },
  {
   "cell_type": "code",
   "execution_count": null,
   "id": "2c0e4d1f",
   "metadata": {},
   "outputs": [],
   "source": []
  },
  {
   "cell_type": "markdown",
   "id": "9da16cfe",
   "metadata": {},
   "source": [
    "Hasta ahora hemos ido añadiendo nodos solitarios (es decir, sin aristas que los unan). Para añadir aristas, se puede proceder también de distintas maneras.\n",
    "- Añadir una sola arista"
   ]
  },
  {
   "cell_type": "code",
   "execution_count": null,
   "id": "dfd57794",
   "metadata": {},
   "outputs": [],
   "source": []
  },
  {
   "cell_type": "markdown",
   "id": "4e5ef75b",
   "metadata": {},
   "source": [
    "- Añadir varias aristas de forma simultánea a través de un iterable"
   ]
  },
  {
   "cell_type": "code",
   "execution_count": null,
   "id": "6258a10b",
   "metadata": {},
   "outputs": [],
   "source": []
  },
  {
   "cell_type": "markdown",
   "id": "9254e922",
   "metadata": {},
   "source": [
    "A la hora de añadir aristas, se pueden especificar propiedades a la misma, mediante asignación a parámetros clave."
   ]
  },
  {
   "cell_type": "code",
   "execution_count": null,
   "id": "9cc20cdf",
   "metadata": {
    "scrolled": true
   },
   "outputs": [],
   "source": []
  },
  {
   "cell_type": "markdown",
   "id": "7a3d9fbc",
   "metadata": {},
   "source": [
    "Existen más maneras de añadir nodos, aristas, propiedades... Podéis consultarlo en la documentación si os resulta interesante.\n",
    "\n",
    "Un detalle remarcable de `networkx`, es que mediante el método `add_node()`, podemos incluso añadir...  ¡OTRO GRAFO!"
   ]
  },
  {
   "cell_type": "code",
   "execution_count": null,
   "id": "ffb7895b",
   "metadata": {},
   "outputs": [],
   "source": []
  },
  {
   "cell_type": "markdown",
   "id": "95899788",
   "metadata": {},
   "source": [
    "### 3. Propiedades generales de un grafo\n",
    "#### 3.1 Nodos\n",
    "\n",
    "Es sencillo acceder a los nodos de un grafo:"
   ]
  },
  {
   "cell_type": "code",
   "execution_count": null,
   "id": "0b7c8f90",
   "metadata": {
    "scrolled": true
   },
   "outputs": [],
   "source": []
  },
  {
   "cell_type": "markdown",
   "id": "25b149cb",
   "metadata": {},
   "source": [
    "La clase `NodeView` es una estructura de datos que hereda de la clase `dict`. Eso quiere decir que, para acceder a la información contenida en alguno de los nodos, utilizamos la misma sintaxis que cuando deseamos acceder al `value` almacenado por una `key` en un diccionario"
   ]
  },
  {
   "cell_type": "code",
   "execution_count": null,
   "id": "5b4aca98",
   "metadata": {},
   "outputs": [],
   "source": []
  },
  {
   "cell_type": "markdown",
   "id": "cc0a073c",
   "metadata": {},
   "source": [
    "¿Qué propiedad contiene el nodo `40`?\n",
    "\n",
    "<span style=\"color:green\">*Escribe el código en la casilla de abajo y responde con un comentario o print*</span>"
   ]
  },
  {
   "cell_type": "code",
   "execution_count": null,
   "id": "54a6dcdf",
   "metadata": {},
   "outputs": [],
   "source": []
  },
  {
   "cell_type": "markdown",
   "id": "8fc534ed",
   "metadata": {},
   "source": [
    "Esto nos permite comprobar un detalle de vital importancia: a la hora de añadir nodos que sean de tipo `str` hay que tener mucho cuidado. Bajo ciertas condiciones, `python` puede interpretar un `str` como un iterable cuyos elementos son las letras que lo conforman. Por eso, dependiendo de la manera en la que se añadan los nodos, se obtienen resultados completamente distintos, como podremos comprobar a continuación:"
   ]
  },
  {
   "cell_type": "code",
   "execution_count": null,
   "id": "595b16ce",
   "metadata": {},
   "outputs": [],
   "source": []
  },
  {
   "cell_type": "markdown",
   "id": "cffb4241",
   "metadata": {},
   "source": [
    "¿Qué es lo que ha pasado?\n",
    "\n",
    "<span style=\"color:green\">*Escribe la respuesta en la casilla de abajo*</span>"
   ]
  },
  {
   "cell_type": "markdown",
   "id": "f0e0f53a",
   "metadata": {},
   "source": []
  },
  {
   "cell_type": "markdown",
   "id": "630a39aa",
   "metadata": {},
   "source": [
    "#### 3.2 Aristas\n",
    "También podemos acceder a las aristas"
   ]
  },
  {
   "cell_type": "code",
   "execution_count": null,
   "id": "9c4a855a",
   "metadata": {
    "scrolled": true
   },
   "outputs": [],
   "source": []
  },
  {
   "cell_type": "markdown",
   "id": "1e9debf7",
   "metadata": {},
   "source": [
    "Si le pasamos un nodo como argumento, obtenemos las aristas de ese nodo"
   ]
  },
  {
   "cell_type": "code",
   "execution_count": null,
   "id": "a2ee78d3",
   "metadata": {
    "scrolled": false
   },
   "outputs": [],
   "source": []
  },
  {
   "cell_type": "markdown",
   "id": "4a7cbd12",
   "metadata": {},
   "source": [
    "#### 3.3 Cardinalidades\n",
    "\n",
    "Es sencillo conocer el cardinal (o número de elementos) del conjunto de los nodos y de las aristas de un grafo.\n",
    "Por ejemplo, si quisiéramos guardar en una variable `n` el número de nodos que poblan el grafo y en `m` el número de aristas del mismo:"
   ]
  },
  {
   "cell_type": "code",
   "execution_count": null,
   "id": "a9a3151f",
   "metadata": {
    "scrolled": true
   },
   "outputs": [],
   "source": []
  },
  {
   "cell_type": "markdown",
   "id": "69fe6aad",
   "metadata": {},
   "source": [
    "#### 3.4 Adyacencia de un nodo\n",
    "También es posible conocer los nodos adyacentes de un determinado nodo. Hay dos formas:\n",
    "- Mediante el uso de `adj`"
   ]
  },
  {
   "cell_type": "code",
   "execution_count": null,
   "id": "a865a0ce",
   "metadata": {
    "scrolled": true
   },
   "outputs": [],
   "source": []
  },
  {
   "cell_type": "markdown",
   "id": "06f786eb",
   "metadata": {},
   "source": [
    "Este método nos devuelve un objeto llamado `AtlasView`, que hereda de un diccionario. Sus `keys` son los nodos a los que el nodo de interés es adyacente, mientras que los `values` son `dict` que contienen información sobre la arista que los une.\n",
    "\n",
    "- Mediante el uso de `neighbors`\n",
    "\n",
    "Cuidado, que `neighbors` devuelve in iterador. Si lo que nos interesa es ver los elementos, es recomentable transformar dicho iterador a `list`:"
   ]
  },
  {
   "cell_type": "code",
   "execution_count": null,
   "id": "4d8b05f3",
   "metadata": {},
   "outputs": [],
   "source": []
  },
  {
   "cell_type": "markdown",
   "id": "d201cd95",
   "metadata": {},
   "source": [
    "Dado que la clase `AtlasView` hereda de la clase `dict`, lo anterior también se puede conseguir, únicamente hacen falta las siguientes instrucciones:"
   ]
  },
  {
   "cell_type": "code",
   "execution_count": null,
   "id": "5c032379",
   "metadata": {},
   "outputs": [],
   "source": []
  },
  {
   "cell_type": "markdown",
   "id": "b2ec5a85",
   "metadata": {},
   "source": [
    "- Accediendo directamente al nodo desde el grafo (el resultado es equivalente a emplear `adj`)"
   ]
  },
  {
   "cell_type": "code",
   "execution_count": null,
   "id": "19af22d8",
   "metadata": {
    "scrolled": false
   },
   "outputs": [],
   "source": []
  },
  {
   "cell_type": "markdown",
   "id": "667e3b53",
   "metadata": {},
   "source": [
    "Un detalle interesante es que uno puede acceder a los atributos de, por ejemplo las aristas, empleando el método anterior junto a la \"*concatenación*\" (cuidado que aquí estoy haciendo un abuso de lenguaje al usar esta palabra) de accesos mediante corchetes:"
   ]
  },
  {
   "cell_type": "code",
   "execution_count": null,
   "id": "47fef895",
   "metadata": {},
   "outputs": [],
   "source": []
  },
  {
   "cell_type": "markdown",
   "id": "f1d56c60",
   "metadata": {},
   "source": [
    "También existen maneras de acceder de forma iterada a atributos de, por ejemplo, las aristas"
   ]
  },
  {
   "cell_type": "code",
   "execution_count": null,
   "id": "a4b41b5f",
   "metadata": {},
   "outputs": [],
   "source": []
  },
  {
   "cell_type": "markdown",
   "id": "d45592db",
   "metadata": {},
   "source": [
    "¿Qué resultado obtenemos para aquellas aristas en las que no hemos definido un peso?\n",
    "\n",
    "<span style=\"color:green\">*Responde en la casilla de abajo*</span>"
   ]
  },
  {
   "cell_type": "markdown",
   "id": "37259e29",
   "metadata": {},
   "source": []
  },
  {
   "cell_type": "markdown",
   "id": "a56d7645",
   "metadata": {},
   "source": [
    "#### 3.5 Borrado de contenido de un grafo**\n",
    "Realmente, no es una propiedad (por eso los asteriscos). Podemos borrar cosas de un grafo mediante unas sencillas instrucciones"
   ]
  },
  {
   "cell_type": "code",
   "execution_count": null,
   "id": "0895a2c1",
   "metadata": {},
   "outputs": [],
   "source": []
  },
  {
   "cell_type": "markdown",
   "id": "656208bb",
   "metadata": {},
   "source": [
    "Lo mismo se puede hacer con las aristas"
   ]
  },
  {
   "cell_type": "code",
   "execution_count": null,
   "id": "8d6d3fc7",
   "metadata": {},
   "outputs": [],
   "source": []
  },
  {
   "cell_type": "markdown",
   "id": "0f80973d",
   "metadata": {},
   "source": [
    "O incluso borrar todo el contenido de un grafo, para así tener un grafo vacío"
   ]
  },
  {
   "cell_type": "code",
   "execution_count": null,
   "id": "c4a29d73",
   "metadata": {
    "scrolled": true
   },
   "outputs": [],
   "source": []
  },
  {
   "cell_type": "markdown",
   "id": "5feee2ce",
   "metadata": {},
   "source": [
    "### 4. Uso del constructor de la clase `Graph`\n",
    "Llegados a este punto, hemos aprendido a crear un grafo vacío, poblarlo con nodos, añadir aristas y obtener varias propiedades de un grafo.\n",
    "\n",
    "La clase `Graph` contiene un constructor (método de una clase que permite crear una instancia de la misma) muy versátil que nos permite crear grafos a partir de distintas estructuras de datos de `python`\n",
    "\n",
    "- A partir de un iterador de aristas"
   ]
  },
  {
   "cell_type": "code",
   "execution_count": null,
   "id": "2673a678",
   "metadata": {},
   "outputs": [],
   "source": []
  },
  {
   "cell_type": "markdown",
   "id": "e6610cfc",
   "metadata": {},
   "source": [
    "- A partir de un `dict` de adyacencias (`key` es el nombre de un nodo, `value` es un iterador con los nodos adyacentes)"
   ]
  },
  {
   "cell_type": "code",
   "execution_count": null,
   "id": "db5401a7",
   "metadata": {},
   "outputs": [],
   "source": []
  },
  {
   "cell_type": "markdown",
   "id": "23b9c179",
   "metadata": {},
   "source": [
    "- A partir de... ¡otro grafo!"
   ]
  },
  {
   "cell_type": "code",
   "execution_count": null,
   "id": "23a717d5",
   "metadata": {},
   "outputs": [],
   "source": []
  },
  {
   "cell_type": "markdown",
   "id": "9e21bb49",
   "metadata": {},
   "source": [
    "Estos dos grafos tienen el mismo contenido, pero son objetos diferentes"
   ]
  },
  {
   "cell_type": "code",
   "execution_count": null,
   "id": "145b7496",
   "metadata": {},
   "outputs": [],
   "source": []
  },
  {
   "cell_type": "markdown",
   "id": "e8304bac",
   "metadata": {},
   "source": [
    "Esto último puede resultar extraño. ¿Para qué iba a servir esto? La utilidad se ilustra en el apartado siguiente\n",
    "\n",
    "### 5.Tipos de grafos y sus constructores\n",
    "\n",
    "A estas alturas ya estaréis familiarizados con los distintos tipos de grafos. `networkx` permite la creación de los siguientes:\n",
    "- `Graph`: un grafo no dirigido\n",
    "- `DiGraph`: un grafo dirigido\n",
    "- `MultiGraph`: un grafo no dirigido donde puede haber varias aristas uniendo una misma pareja de nodos\n",
    "- `MultiDiGraph`: un grafo dirigido donde puede haber varias aristas uniendo una misma pareja de nodos\n",
    "\n",
    "Un detalle adicional es que cada una de estas clases permite la existencia de lazos (aristas que nacen en un nodo y tienen como destino ese mismo nodo).\n",
    "\n",
    "Todos los constructores de las clases anteriores funcionan de la misma manera."
   ]
  },
  {
   "cell_type": "code",
   "execution_count": null,
   "id": "c822a9c0",
   "metadata": {},
   "outputs": [],
   "source": []
  },
  {
   "cell_type": "markdown",
   "id": "d81cc25e",
   "metadata": {},
   "source": [
    "De la casilla anterior, ¿hay algún resultado que no te esperabas?\n",
    "\n",
    "<span style=\"color:green\">*Responde en la casilla de abajo*</span>"
   ]
  },
  {
   "cell_type": "markdown",
   "id": "aa3c72b1",
   "metadata": {},
   "source": []
  },
  {
   "cell_type": "markdown",
   "id": "d206b6a4",
   "metadata": {},
   "source": [
    "### 6. Generadores de grafos\n",
    "\n",
    "`networkx` viene equipado con una gran familia de generadores de grafos, como `complete_bipartite_graph`, `barbell_graph`, `\n",
    "erdos_renyi_graph` o `barabasi_albert_graph`. No vamos a ver todos, pero es interesante que sepáis que existen."
   ]
  },
  {
   "cell_type": "code",
   "execution_count": null,
   "id": "61702df2",
   "metadata": {},
   "outputs": [],
   "source": []
  },
  {
   "cell_type": "markdown",
   "id": "34d33cf6",
   "metadata": {},
   "source": [
    "### 7. Construcción de un grafo a partir de una matriz de adyacencia\n",
    "\n",
    "Ya sabéis que todos los grafos pueden representarse como una matriz de adyacencia. Los constructores de grafos presentados anteriormente saben interpretar matrices (la clase `numpy.array`) y generar el grafo adecuado según el constructor empleado."
   ]
  },
  {
   "cell_type": "code",
   "execution_count": null,
   "id": "395b2acb",
   "metadata": {},
   "outputs": [],
   "source": []
  },
  {
   "cell_type": "markdown",
   "id": "08a9e82e",
   "metadata": {},
   "source": [
    "También podemos obtener la matriz de adyacencia de dos formas:\n",
    "- Como matriz *sparse*"
   ]
  },
  {
   "cell_type": "code",
   "execution_count": null,
   "id": "a7a61dac",
   "metadata": {
    "scrolled": true
   },
   "outputs": [],
   "source": []
  },
  {
   "cell_type": "markdown",
   "id": "f16c2278",
   "metadata": {},
   "source": [
    "- Como matriz entera"
   ]
  },
  {
   "cell_type": "code",
   "execution_count": null,
   "id": "4e967eb9",
   "metadata": {
    "scrolled": true
   },
   "outputs": [],
   "source": []
  },
  {
   "cell_type": "markdown",
   "id": "dd1f06bd",
   "metadata": {},
   "source": [
    "### 8. Creación de grafos a partir de ficheros\n",
    "\n",
    "En esta sección veremos 3 maneras de abrir 3 tipos de ficheros para crear un grafo.\n",
    "Hay muchísimas maneras de guardar un grafo y por lo tanto, las mismas (¡o más!) de leer un fichero para crear un grafo. Todas las formas soportadas por `networkx` se encuentran en [este enlace](https://networkx.org/documentation/stable/reference/readwrite/index.html).\n",
    "\n",
    "- A partir de un fichero `GraphML`\n",
    "\n",
    "<span style=\"color:green\">*Exportad la red que generasteis ayer con Gephi en formato `GraphML`, movedla a la carpeta de trabajo donde se encuentre este documento y completad el código de la casilla de abajo*</span>"
   ]
  },
  {
   "cell_type": "code",
   "execution_count": null,
   "id": "2776ac9c",
   "metadata": {},
   "outputs": [],
   "source": [
    "nombreDelFicheroGraphML = \"\" # Completa con el nombre del fichero\n",
    "\n",
    "grafoGephi = nx.read_graphml(nombreDelFicheroGraphML)"
   ]
  },
  {
   "cell_type": "markdown",
   "id": "7ff0eb89",
   "metadata": {},
   "source": [
    "- A partir de una lista de aristas (a veces se usa la extensión `.edges`)\n",
    "\n",
    "<span style=\"color:green\">*Entrad en <a href=https://networkrepository.com/index.php>este enlace</a>, elegid una red biológica, descargad el fichero, descomprimidlo en esta carpeta de trabajo y completad el código de la casilla de abajo*</span>"
   ]
  },
  {
   "cell_type": "code",
   "execution_count": null,
   "id": "953825a6",
   "metadata": {
    "scrolled": false
   },
   "outputs": [],
   "source": [
    "nombreDelFicheroRedBio = \"\" # Completa con el nombre del fichero\n",
    "\n",
    "grafoBio = nx.read_edgelist(nombreDelFicheroRedBio)\n",
    "print(grafoBio.edges)"
   ]
  },
  {
   "cell_type": "code",
   "execution_count": null,
   "id": "f64bde46",
   "metadata": {
    "scrolled": false
   },
   "outputs": [],
   "source": [
    "# Si se diese el caso de que la función fallase\n",
    "# (porque por ejemplo la lista de aristas incluye información sobre los pesos por ejemplo)\n",
    "# emplead la siguiente función\n",
    "\n",
    "grafoBio = nx.read_weighted_edgelist(nombreDelFicheroRedBio)\n",
    "print(grafoBio.edges)"
   ]
  },
  {
   "cell_type": "markdown",
   "id": "dc3b4682",
   "metadata": {},
   "source": [
    "- A partir de una matriz de adyacencia en formato `.csv`"
   ]
  },
  {
   "cell_type": "code",
   "execution_count": null,
   "id": "eb2b0e5a",
   "metadata": {},
   "outputs": [],
   "source": [
    "# Como no disponemos de una, vamos a crearla y luego vamos a leerla.\n",
    "matAleatoria = np.random.randint(0, high=5, size=(7,7))\n",
    "np.savetxt(\"adjacenciaNumpy.csv\", matAleatoria, delimiter=\",\")\n",
    "\n",
    "grafoDesdeAdj = nx.Graph(\n",
    "    np.genfromtxt(\"adjacenciaNumpy.csv\", delimiter=',')\n",
    ")\n",
    "print(grafoDesdeAdj.edges)"
   ]
  },
  {
   "cell_type": "markdown",
   "id": "694b69cb",
   "metadata": {},
   "source": [
    "### 9. Métricas\n",
    "\n",
    "Al igual que `Gephi` y `Cytoscape`, `networkx` permite el cálculo de distintas métricas sobre un grafo. Emplearemos en este paso el grafo `grafoDesdeAdj` creado en el apartado anterior.\n",
    "\n",
    "#### 9.1 Grado medio\n",
    "\n",
    "Desgraciadamente, no existe función para el cálculo del grado medio de un grafo **no dirigido**. Sin embargo, mediante `python` y aplicando la definición de grado medio\n",
    "\n",
    "$$\n",
    "\\frac{2\\left|E\\right|}{n}\n",
    "$$\n",
    "\n",
    "*donde $\\left|E\\right|$ es el cardinal de aristas y $n$ el cardinal de nodos*,\n",
    "\n",
    "podemos definir una función que lleve a cabo ese cálculo para nosotros\n",
    "\n",
    "<span style=\"color:green\">*Completad el código de la casilla de abajo*</span>"
   ]
  },
  {
   "cell_type": "code",
   "execution_count": null,
   "id": "a3777304",
   "metadata": {},
   "outputs": [],
   "source": [
    "def avgDegree(G):\n",
    "    # Completad el código. Definimos k como el grado medio\n",
    "#    k = 2*G.number_of_edges()/G.number_of_nodes()\n",
    "    \n",
    "    return k\n",
    "\n",
    "avgDegree(grafoDesdeAdj)"
   ]
  },
  {
   "cell_type": "markdown",
   "id": "da9e8697",
   "metadata": {},
   "source": [
    "#### 9.2 Diámetro"
   ]
  },
  {
   "cell_type": "code",
   "execution_count": null,
   "id": "91fec5be",
   "metadata": {},
   "outputs": [],
   "source": [
    "nx.diameter(grafoDesdeAdj)"
   ]
  },
  {
   "cell_type": "markdown",
   "id": "14e6b1a5",
   "metadata": {},
   "source": [
    "#### 9.3 Excentricidad"
   ]
  },
  {
   "cell_type": "code",
   "execution_count": null,
   "id": "1c3a9d66",
   "metadata": {},
   "outputs": [],
   "source": [
    "nx.eccentricity(grafoDesdeAdj)"
   ]
  },
  {
   "cell_type": "markdown",
   "id": "efc4220f",
   "metadata": {},
   "source": [
    "#### 9.4 Radio"
   ]
  },
  {
   "cell_type": "code",
   "execution_count": null,
   "id": "a62ea5ed",
   "metadata": {},
   "outputs": [],
   "source": [
    "nx.radius(grafoDesdeAdj)"
   ]
  },
  {
   "cell_type": "markdown",
   "id": "7834d02c",
   "metadata": {},
   "source": [
    "#### 9.5 Densidad"
   ]
  },
  {
   "cell_type": "code",
   "execution_count": null,
   "id": "9c1d4200",
   "metadata": {},
   "outputs": [],
   "source": [
    "nx.density(grafoDesdeAdj)"
   ]
  },
  {
   "cell_type": "markdown",
   "id": "44e3a8f6",
   "metadata": {},
   "source": [
    "#### 9.6 Conectividad\n",
    "\n",
    "`networkx` tiene una familia de funciones que nos proporciona información sobre la coenctividad"
   ]
  },
  {
   "cell_type": "code",
   "execution_count": null,
   "id": "f761b1e1",
   "metadata": {},
   "outputs": [],
   "source": [
    "print(\n",
    "    \"¿El grafo es conexo? %s\"\n",
    "    % nx.is_connected(grafoDesdeAdj)\n",
    ")\n",
    "print(\n",
    "    \"Número de componentes conexas: %d\"\n",
    "    % nx.number_connected_components(grafoDesdeAdj)\n",
    ")\n",
    "print(\n",
    "    \"Componentes conexas:\\n%s\"\n",
    "    % list(nx.connected_components(grafoDesdeAdj))\n",
    ")"
   ]
  },
  {
   "cell_type": "markdown",
   "id": "8eadd631",
   "metadata": {},
   "source": [
    "También existen funciones que estudian la conectividad de grafos dirigidos. Más información [en este enlace](https://networkx.org/documentation/stable/reference/algorithms/component.html).\n",
    "\n",
    "#### 9.7 Comunidades\n",
    "\n",
    "Existen distintos algoritmos para la detección (y generación) de comunidades. Nosotros vamos a probar el algoritmo de Louvain, que es el canónico"
   ]
  },
  {
   "cell_type": "code",
   "execution_count": null,
   "id": "e2787ad8",
   "metadata": {},
   "outputs": [],
   "source": [
    "nx.algorithms.community.louvain_communities(grafoDesdeAdj)"
   ]
  },
  {
   "cell_type": "markdown",
   "id": "ce0e806f",
   "metadata": {},
   "source": [
    "*En caso de que tengáis problemas a la hora de utilizar `community.louvain_communities`, podéis importar la misma función a partir del fichero `louvain.py` de la siguiente manera: `from louvain import louvain_communities`*\n",
    "\n",
    "#### 9.8 Pagereank\n",
    "\n",
    "El cálculo del pagerank de cada nodo del grafo procede de la siguiente manera"
   ]
  },
  {
   "cell_type": "code",
   "execution_count": null,
   "id": "a8248df7",
   "metadata": {},
   "outputs": [],
   "source": [
    "nx.pagerank(grafoDesdeAdj)"
   ]
  },
  {
   "cell_type": "markdown",
   "id": "3f220dcc",
   "metadata": {},
   "source": [
    "#### 9.9 HITS\n",
    "\n",
    "Su cálculo es tan sencillo como el de pagerank"
   ]
  },
  {
   "cell_type": "code",
   "execution_count": null,
   "id": "1580700e",
   "metadata": {},
   "outputs": [],
   "source": [
    "nx.hits(grafoDesdeAdj)"
   ]
  },
  {
   "cell_type": "markdown",
   "id": "154792af",
   "metadata": {},
   "source": [
    "#### Centralidad\n",
    "\n",
    "Ya conocéis las dos medidas de centralidad principales: *betweeness*, *closeness* y *harmonic closeness*. [Este enlace](https://networkx.org/documentation/stable/reference/algorithms/centrality.html) contiene más información sobre medidas de centralidad."
   ]
  },
  {
   "cell_type": "code",
   "execution_count": null,
   "id": "b75f3379",
   "metadata": {},
   "outputs": [],
   "source": [
    "print(\n",
    "    \"Betweeness centrality: %s\"\n",
    "    % nx.betweenness_centrality(grafoDesdeAdj)\n",
    ")\n",
    "\n",
    "print(\n",
    "    \"Closeness centrality: %s\"\n",
    "    % nx.closeness_centrality(grafoDesdeAdj)\n",
    ")\n",
    "\n",
    "print(\n",
    "    \"Closeness centrality: %s\"\n",
    "    % nx.harmonic_centrality(grafoDesdeAdj)\n",
    ")"
   ]
  }
 ],
 "metadata": {
  "kernelspec": {
   "display_name": "Python 3 (ipykernel)",
   "language": "python",
   "name": "python3"
  },
  "language_info": {
   "codemirror_mode": {
    "name": "ipython",
    "version": 3
   },
   "file_extension": ".py",
   "mimetype": "text/x-python",
   "name": "python",
   "nbconvert_exporter": "python",
   "pygments_lexer": "ipython3",
   "version": "3.10.4"
  }
 },
 "nbformat": 4,
 "nbformat_minor": 5
}
